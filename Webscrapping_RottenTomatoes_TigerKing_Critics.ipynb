{
 "cells": [
  {
   "cell_type": "markdown",
   "metadata": {},
   "source": [
    "# Web Scrapping: Critics Reviews for Tiger King Season 1 from Rotten Tomatoes"
   ]
  },
  {
   "cell_type": "code",
   "execution_count": 54,
   "metadata": {},
   "outputs": [],
   "source": [
    "#import requests and Beautiful Soup\n",
    "import requests\n",
    "from bs4 import BeautifulSoup"
   ]
  },
  {
   "cell_type": "code",
   "execution_count": 55,
   "metadata": {},
   "outputs": [],
   "source": [
    "#create a list\n",
    "#add urls of all pages of the full critics review webpage of Tiger King Season 1 in it.\n",
    "#I have taken first 5 pages.\n",
    "page_urls = ['http://rottentomatoes.com/tv/tiger_king/s01/reviews','https://www.rottentomatoes.com/tv/tiger_king/s01/reviews?type=&sort=&page=2','https://www.rottentomatoes.com/tv/tiger_king/s01/reviews?type=&sort=&page=3','https://www.rottentomatoes.com/tv/tiger_king/s01/reviews?type=&sort=&page=4','https://www.rottentomatoes.com/tv/tiger_king/s01/reviews?type=&sort=&page=5']"
   ]
  },
  {
   "cell_type": "code",
   "execution_count": 56,
   "metadata": {},
   "outputs": [],
   "source": [
    "#create two empty list for appending reviews and tomato check.\n",
    "reviews = []\n",
    "tomato = []\n",
    "\n",
    "#iterate through each url in the list.\n",
    "for url in page_urls:\n",
    "    response = requests.get(url)\n",
    "    #check whether the response code is not 200. It means there is error in server response\n",
    "    if response.status_code != 200:\n",
    "        continue\n",
    "    #if the response is 200, we can continue with scrapping the content of the response.\n",
    "    else:\n",
    "        html_code = response.content\n",
    "        #choose 'lxml' as the parser for the application as it more efficient than other parsers.\n",
    "        soup = BeautifulSoup(html_code, 'lxml')\n",
    "        #find the html tag with review table as the class.\n",
    "        review_table = soup.find('div',{'class':'review_table'})\n",
    "        #iterate through every rows in the review table in the current page.\n",
    "        for i in review_table.find_all('div',{'class':'critic__review-quote'}):\n",
    "            #append the review in the list.\n",
    "            reviews.append(i.get_text(strip=True))\n",
    "        #iterate through every rows inorder to find the tomato.\n",
    "        for j in review_table.find_all('div',{'class':'col-xs-16 review_container'}):\n",
    "            a=j.find('div',{'class':'review_icon icon small fresh'}) or j.find('div',{'class':'review_icon icon small rotten'})\n",
    "            #append the type in the list.\n",
    "            tomato.append(a.attrs['class'][-1])            "
   ]
  },
  {
   "cell_type": "code",
   "execution_count": 57,
   "metadata": {},
   "outputs": [
    {
     "data": {
      "text/plain": [
       "85"
      ]
     },
     "execution_count": 57,
     "metadata": {},
     "output_type": "execute_result"
    }
   ],
   "source": [
    "#check the length of the review list. \n",
    "len(reviews)"
   ]
  },
  {
   "cell_type": "code",
   "execution_count": 58,
   "metadata": {},
   "outputs": [
    {
     "data": {
      "text/plain": [
       "85"
      ]
     },
     "execution_count": 58,
     "metadata": {},
     "output_type": "execute_result"
    }
   ],
   "source": [
    "#check the length of the tomato list.\n",
    "len(tomato)"
   ]
  },
  {
   "cell_type": "code",
   "execution_count": 59,
   "metadata": {},
   "outputs": [],
   "source": [
    "#import pandas for tabulating the data that was scrapped from the website\n",
    "#import the necessary libraries for visualization\n",
    "import pandas as pd\n",
    "import matplotlib as plt\n",
    "import seaborn as sns\n",
    "%matplotlib inline"
   ]
  },
  {
   "cell_type": "code",
   "execution_count": 60,
   "metadata": {},
   "outputs": [],
   "source": [
    "#convert the data into a dataframe\n",
    "tiger_king_reviews = pd.DataFrame(zip(reviews,tomato), columns=['Critics Reviews','Rotten/Fresh'])"
   ]
  },
  {
   "cell_type": "code",
   "execution_count": 61,
   "metadata": {},
   "outputs": [
    {
     "data": {
      "text/html": [
       "<div>\n",
       "<style scoped>\n",
       "    .dataframe tbody tr th:only-of-type {\n",
       "        vertical-align: middle;\n",
       "    }\n",
       "\n",
       "    .dataframe tbody tr th {\n",
       "        vertical-align: top;\n",
       "    }\n",
       "\n",
       "    .dataframe thead th {\n",
       "        text-align: right;\n",
       "    }\n",
       "</style>\n",
       "<table border=\"1\" class=\"dataframe\">\n",
       "  <thead>\n",
       "    <tr style=\"text-align: right;\">\n",
       "      <th></th>\n",
       "      <th>Critics Reviews</th>\n",
       "      <th>Rotten/Fresh</th>\n",
       "    </tr>\n",
       "  </thead>\n",
       "  <tbody>\n",
       "    <tr>\n",
       "      <th>0</th>\n",
       "      <td>Subtitled Murder, Mayhem and Madness, Tiger Ki...</td>\n",
       "      <td>fresh</td>\n",
       "    </tr>\n",
       "    <tr>\n",
       "      <th>1</th>\n",
       "      <td>...the documentary is too swept up by Exotic's...</td>\n",
       "      <td>rotten</td>\n",
       "    </tr>\n",
       "    <tr>\n",
       "      <th>2</th>\n",
       "      <td>Enthralling in an aghast kind of way, like wat...</td>\n",
       "      <td>rotten</td>\n",
       "    </tr>\n",
       "    <tr>\n",
       "      <th>3</th>\n",
       "      <td>It's a highly watchable docu-series, with insi...</td>\n",
       "      <td>fresh</td>\n",
       "    </tr>\n",
       "    <tr>\n",
       "      <th>4</th>\n",
       "      <td>The storyline is eye-poppingly bizarre, not to...</td>\n",
       "      <td>rotten</td>\n",
       "    </tr>\n",
       "  </tbody>\n",
       "</table>\n",
       "</div>"
      ],
      "text/plain": [
       "                                     Critics Reviews Rotten/Fresh\n",
       "0  Subtitled Murder, Mayhem and Madness, Tiger Ki...        fresh\n",
       "1  ...the documentary is too swept up by Exotic's...       rotten\n",
       "2  Enthralling in an aghast kind of way, like wat...       rotten\n",
       "3  It's a highly watchable docu-series, with insi...        fresh\n",
       "4  The storyline is eye-poppingly bizarre, not to...       rotten"
      ]
     },
     "execution_count": 61,
     "metadata": {},
     "output_type": "execute_result"
    }
   ],
   "source": [
    "tiger_king_reviews.head()"
   ]
  },
  {
   "cell_type": "code",
   "execution_count": 62,
   "metadata": {},
   "outputs": [
    {
     "data": {
      "text/html": [
       "<div>\n",
       "<style scoped>\n",
       "    .dataframe tbody tr th:only-of-type {\n",
       "        vertical-align: middle;\n",
       "    }\n",
       "\n",
       "    .dataframe tbody tr th {\n",
       "        vertical-align: top;\n",
       "    }\n",
       "\n",
       "    .dataframe thead th {\n",
       "        text-align: right;\n",
       "    }\n",
       "</style>\n",
       "<table border=\"1\" class=\"dataframe\">\n",
       "  <thead>\n",
       "    <tr style=\"text-align: right;\">\n",
       "      <th></th>\n",
       "      <th>Critics Reviews</th>\n",
       "      <th>Rotten/Fresh</th>\n",
       "    </tr>\n",
       "  </thead>\n",
       "  <tbody>\n",
       "    <tr>\n",
       "      <th>80</th>\n",
       "      <td>Tiger King is not an uplifting object to gathe...</td>\n",
       "      <td>fresh</td>\n",
       "    </tr>\n",
       "    <tr>\n",
       "      <th>81</th>\n",
       "      <td>Tiger King is Netflix comfort food of the high...</td>\n",
       "      <td>fresh</td>\n",
       "    </tr>\n",
       "    <tr>\n",
       "      <th>82</th>\n",
       "      <td>Tiger King: Murder, Mayhem and Madness lives u...</td>\n",
       "      <td>fresh</td>\n",
       "    </tr>\n",
       "    <tr>\n",
       "      <th>83</th>\n",
       "      <td>Whatever flaws it might have, Tiger King is a ...</td>\n",
       "      <td>fresh</td>\n",
       "    </tr>\n",
       "    <tr>\n",
       "      <th>84</th>\n",
       "      <td>This show feels like Florida man unchained.</td>\n",
       "      <td>fresh</td>\n",
       "    </tr>\n",
       "  </tbody>\n",
       "</table>\n",
       "</div>"
      ],
      "text/plain": [
       "                                      Critics Reviews Rotten/Fresh\n",
       "80  Tiger King is not an uplifting object to gathe...        fresh\n",
       "81  Tiger King is Netflix comfort food of the high...        fresh\n",
       "82  Tiger King: Murder, Mayhem and Madness lives u...        fresh\n",
       "83  Whatever flaws it might have, Tiger King is a ...        fresh\n",
       "84        This show feels like Florida man unchained.        fresh"
      ]
     },
     "execution_count": 62,
     "metadata": {},
     "output_type": "execute_result"
    }
   ],
   "source": [
    "tiger_king_reviews.tail()"
   ]
  },
  {
   "cell_type": "code",
   "execution_count": 63,
   "metadata": {},
   "outputs": [],
   "source": [
    "#save the dataframe as a csv file\n",
    "tiger_king_reviews.to_csv(\"tiger_king_rottentomatoes_critics.csv\",index=True)"
   ]
  },
  {
   "cell_type": "code",
   "execution_count": 64,
   "metadata": {},
   "outputs": [
    {
     "data": {
      "text/plain": [
       "<matplotlib.axes._subplots.AxesSubplot at 0x1f6c65ebeb8>"
      ]
     },
     "execution_count": 64,
     "metadata": {},
     "output_type": "execute_result"
    },
    {
     "data": {
      "image/png": "[encoded data removed]",
      "text/plain": [
       "<Figure size 432x288 with 1 Axes>"
      ]
     },
     "metadata": {
      "needs_background": "light"
     },
     "output_type": "display_data"
    }
   ],
   "source": [
    "#Graphical representage of tomato count\n",
    "sns.countplot(tiger_king_reviews['Rotten/Fresh'])"
   ]
  },
  {
   "cell_type": "code",
   "execution_count": 65,
   "metadata": {},
   "outputs": [],
   "source": [
    "tomato_meter = tiger_king_reviews['Rotten/Fresh'].value_counts('fresh')[0]"
   ]
  },
  {
   "cell_type": "code",
   "execution_count": 66,
   "metadata": {},
   "outputs": [
    {
     "name": "stdout",
     "output_type": "stream",
     "text": [
      "THE TOMATOMETER VALUE FOR TIGER KING: SEASON 1 IS: 86.0%\n"
     ]
    }
   ],
   "source": [
    "#Tomato meter\n",
    "print(\"THE TOMATOMETER VALUE FOR TIGER KING: SEASON 1 IS: {}%\".format(round(tomato_meter*100)))"
   ]
  }
 ],
 "metadata": {
  "kernelspec": {
   "display_name": "Python 3",
   "language": "python",
   "name": "python3"
  },
  "language_info": {
   "codemirror_mode": {
    "name": "ipython",
    "version": 3
   },
   "file_extension": ".py",
   "mimetype": "text/x-python",
   "name": "python",
   "nbconvert_exporter": "python",
   "pygments_lexer": "ipython3",
   "version": "3.7.3"
  }
 },
 "nbformat": 4,
 "nbformat_minor": 2
}
